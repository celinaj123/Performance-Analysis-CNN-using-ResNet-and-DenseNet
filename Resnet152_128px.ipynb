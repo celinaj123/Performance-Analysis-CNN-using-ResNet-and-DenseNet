{
  "cells": [
    {
      "cell_type": "code",
      "execution_count": null,
      "metadata": {
        "id": "gkbPULAFVguX"
      },
      "outputs": [],
      "source": [
        "# import library\n",
        "\n",
        "import tensorflow as tf\n",
        "import pandas as pd\n",
        "from PIL import Image\n",
        "import os\n",
        "import numpy as np\n",
        "import matplotlib.pyplot as plt\n",
        "import os\n",
        "import pathlib\n",
        "import random"
      ]
    },
    {
      "cell_type": "code",
      "execution_count": 2,
      "metadata": {
        "id": "7WXP1jGGwrqc"
      },
      "outputs": [],
      "source": [
        "from google.colab import drive\n",
        "drive.mount('/content/drive')"
      ]
    },
    {
      "cell_type": "code",
      "execution_count": null,
      "metadata": {
        "colab": {
          "background_save": true
        },
        "id": "GSqLVqJwWLIS"
      },
      "outputs": [],
      "source": [
        "#connect to dataset folder\n",
        "path = '/content/drive/MyDrive/Mias Mammography Database/all-mias'\n",
        "data_dir = pathlib.Path(path)"
      ]
    },
    {
      "cell_type": "code",
      "execution_count": null,
      "metadata": {
        "colab": {
          "background_save": true
        },
        "id": "hX6ktdCUmqXe"
      },
      "outputs": [],
      "source": [
        "class_names = np.array(sorted([item.name for item in data_dir.glob(\"*\")]))\n",
        "class_names\n"
      ]
    },
    {
      "cell_type": "code",
      "execution_count": null,
      "metadata": {
        "colab": {
          "background_save": true
        },
        "id": "NzaSKTBgy51J"
      },
      "outputs": [],
      "source": [
        "!pip install colorama\n"
      ]
    },
    {
      "cell_type": "code",
      "execution_count": null,
      "metadata": {
        "colab": {
          "background_save": true
        },
        "id": "KOKc9rIYYhMz"
      },
      "outputs": [],
      "source": [
        "\n",
        "import numpy as np\n",
        "import pandas as pd\n",
        "import cv2\n",
        "from PIL import Image\n",
        "import scipy\n",
        "\n",
        "import tensorflow as tf\n",
        "from tensorflow.keras.applications import *\n",
        "from tensorflow.keras.optimizers import *\n",
        "from tensorflow.keras.losses import *\n",
        "from tensorflow.keras.layers import *\n",
        "from tensorflow.keras.models import *\n",
        "from tensorflow.keras.callbacks import *\n",
        "from tensorflow.keras.preprocessing.image import *\n",
        "from tensorflow.keras.utils import *\n",
        "# import pydot\n",
        "\n",
        "from sklearn.metrics import *\n",
        "from sklearn.model_selection import *\n",
        "import tensorflow.keras.backend as K\n",
        "\n",
        "from tqdm import tqdm, tqdm_notebook\n",
        "from colorama import Fore\n",
        "import json\n",
        "import matplotlib.pyplot as plt\n",
        "import seaborn as sns\n",
        "from glob import glob\n",
        "from skimage.io import *\n",
        "%config Completer.use_jedi = False\n",
        "import time\n",
        "from sklearn.decomposition import PCA\n",
        "from sklearn.svm import LinearSVC\n",
        "from sklearn.linear_model import LogisticRegression\n",
        "from sklearn.metrics import accuracy_score\n",
        "import lightgbm as lgb\n",
        "import xgboost as xgb\n",
        "\n",
        "print(\"All modules have been imported\")"
      ]
    },
    {
      "cell_type": "code",
      "execution_count": null,
      "metadata": {
        "colab": {
          "background_save": true
        },
        "id": "irmP8Te45AFd"
      },
      "outputs": [],
      "source": [
        "# import pandas as pd\n",
        "# from google.colab import drive\n",
        "\n",
        "# # Mount Google Drive\n",
        "# drive.mount('/content/drive')\n",
        "\n",
        "# # Define file path\n",
        "# file_path = '/content/drive/MyDrive/Mias Mammography Database/Info.txt'\n",
        "\n",
        "# # Read the data\n",
        "# info = pd.read_csv(file_path, sep='\\s+', engine='python', on_bad_lines='skip')\n",
        "\n",
        "# info.SEVERITY.fillna(0)\n",
        "# # Display info after modifications\n",
        "# print(info.head())\n",
        "\n",
        "import pandas as pd\n",
        "from google.colab import drive\n",
        "\n",
        "# Mount Google Drive\n",
        "drive.mount('/content/drive', force_remount=True)\n",
        "\n",
        "# Define file path\n",
        "file_path = '/content/drive/MyDrive/Mias Mammography Database/Info.txt'\n",
        "\n",
        "# Read the data\n",
        "info = pd.read_csv(file_path, sep='\\s+', engine='python', on_bad_lines='skip')\n",
        "\n",
        "# Check if 'Unnamed: 7' column exists and drop it\n",
        "if 'Unnamed: 7' in info.columns:\n",
        "    info = info.drop('Unnamed: 7', axis=1)\n",
        "\n",
        "# Fill missing values in SEVERITY with 0\n",
        "info['SEVERITY'] = info['SEVERITY'].fillna(0)\n",
        "\n",
        "# Display info after modifications\n",
        "print(info.head())\n",
        "\n"
      ]
    },
    {
      "cell_type": "code",
      "execution_count": null,
      "metadata": {
        "colab": {
          "background_save": true
        },
        "id": "BeYKqrVNMfma"
      },
      "outputs": [],
      "source": []
    },
    {
      "cell_type": "code",
      "execution_count": null,
      "metadata": {
        "colab": {
          "background_save": true
        },
        "id": "nbRlbjMI61nZ"
      },
      "outputs": [],
      "source": [
        "sns.set_style('darkgrid')\n",
        "fig, (ax1, ax2) = plt.subplots(1,2,figsize=(15,5))\n",
        "sns.barplot(x=info.BG.unique(),y=info.BG.value_counts(),palette='Blues_r',ax=ax1)\n",
        "sns.barplot(x=info.CLASS.unique(),y=info.CLASS.value_counts(),palette='Blues_r',ax=ax2)\n"
      ]
    },
    {
      "cell_type": "code",
      "execution_count": null,
      "metadata": {
        "colab": {
          "background_save": true
        },
        "id": "AivcbOit0aXT"
      },
      "outputs": [],
      "source": [
        "\n",
        "import glob\n",
        "import numpy as np\n",
        "import matplotlib.pyplot as plt\n",
        "# Load and resize images\n",
        "x = []\n",
        "for filename in sorted(glob.glob(os.path.join(data_dir, \"*.pgm\"))):\n",
        "    img = cv2.imread(filename, cv2.IMREAD_GRAYSCALE)  # Read as grayscale\n",
        "    img = cv2.resize(img, (128, 128))\n",
        "    x.append(img)\n",
        "\n",
        "# Display images in a grid\n",
        "fig = plt.figure(figsize=(15, 15))\n",
        "columns = 3\n",
        "rows = 3\n",
        "\n",
        "for i in range(1, columns * rows + 1):\n",
        "    fig.add_subplot(rows, columns, i)\n",
        "    plt.imshow(x[i - 1], cmap='gray')\n",
        "    plt.axis('off')\n",
        "\n",
        "plt.show()\n"
      ]
    },
    {
      "cell_type": "code",
      "execution_count": null,
      "metadata": {
        "colab": {
          "background_save": true
        },
        "id": "J9zgK42v4dCN"
      },
      "outputs": [],
      "source": [
        "import numpy as np\n",
        "lable_info=read_lable()\n",
        "image_info=read_image()\n",
        "ids=lable_info.keys()\n",
        "del lable_info['Truth-Data:']\n",
        "X=[]\n",
        "Y=[]\n",
        "for id in ids:\n",
        "    for angle in range(0,no_angles,8):\n",
        "        X.append(image_info[id][angle])\n",
        "        Y.append(lable_info[id][angle])\n",
        "X=np.array(X)\n",
        "Y=np.array(Y)\n",
        "Y=to_categorical(Y,2)\n",
        "x_train, x_test1, y_train, y_test1 = train_test_split(X, Y, test_size=0.3, random_state=42)\n",
        "x_val, x_test, y_val, y_test = train_test_split(x_test1, y_test1, test_size=0.3, random_state=42)\n",
        "print(len(x_train),len(x_val),len(x_test))"
      ]
    },
    {
      "cell_type": "code",
      "execution_count": null,
      "metadata": {
        "colab": {
          "background_save": true
        },
        "id": "n9K7nHeN31Fz"
      },
      "outputs": [],
      "source": [
        "# Image Augmentation\n",
        "no_angles = 360\n",
        "url = '/content/drive/MyDrive/Mias Mammography Database/all-mias/'\n",
        "\n",
        "def save_dictionary(path,data):\n",
        "        print('saving catalog...')\n",
        "        #open('u.item', encoding=\"utf-8\")\n",
        "        import json\n",
        "        with open(path,'w') as outfile:\n",
        "            json.dump(str(data), fp=outfile)\n",
        "        # save to file:\n",
        "        print(' catalog saved')"
      ]
    },
    {
      "cell_type": "code",
      "execution_count": null,
      "metadata": {
        "colab": {
          "background_save": true
        },
        "id": "Op0tjo_J4Xzn"
      },
      "outputs": [],
      "source": [
        "# train_test_split_datagen=ImageDataGenerator(\"augmentations such as flip,brightness range,etc....\")\n",
        "# val_datagen=ImageDataGenerator(\"augmentations such as flip,brightness range,etc....\")\n",
        "# test_datagen=ImageDataGenerator(\"augmentations such as flip,brightness range,etc....\")\n",
        "def read_image():\n",
        "        print(\"Reading images\")\n",
        "        import cv2\n",
        "        info = {}\n",
        "        for i in range(322):\n",
        "            if i<9:\n",
        "                image_name='mdb00'+str(i+1)\n",
        "            elif i<99:\n",
        "                image_name='mdb0'+str(i+1)\n",
        "            else:\n",
        "                image_name = 'mdb' + str(i+1)\n",
        "            image_address= url+image_name+'.pgm'\n",
        "            img = cv2.imread(image_address,1)\n",
        "            img = cv2.resize(img, (128,128))\n",
        "            rows, cols,channel = img.shape\n",
        "            info[image_name]={}\n",
        "            for angle in range(0,no_angles,8):\n",
        "                M = cv2.getRotationMatrix2D((cols / 2, rows / 2), angle, 1)\n",
        "                img_rotated = cv2.warpAffine(img, M, (cols, rows))\n",
        "                info[image_name][angle]=img_rotated\n",
        "        return (info)\n"
      ]
    },
    {
      "cell_type": "code",
      "execution_count": null,
      "metadata": {
        "colab": {
          "background_save": true
        },
        "id": "MzSNPBxP4bpc"
      },
      "outputs": [],
      "source": [
        "def read_lable():\n",
        "    print(\"Reading labels\")\n",
        "    filename = url+'Info.txt'\n",
        "    text_all = open(filename).read()\n",
        "    #print(text_all)\n",
        "    lines=text_all.split('\\n')\n",
        "    info={}\n",
        "    for line in lines:\n",
        "        words=line.split(' ')\n",
        "        if len(words)>3:\n",
        "            if (words[3] == 'B'):\n",
        "                info[words[0]] = {}\n",
        "                for angle in range(0,no_angles,8):\n",
        "                    info[words[0]][angle] = 0\n",
        "            if (words[3] == 'M'):\n",
        "                info[words[0]] = {}\n",
        "                for  angle in range(0,no_angles,8):\n",
        "                    info[words[0]][angle] = 1\n",
        "    return (info)"
      ]
    },
    {
      "cell_type": "markdown",
      "metadata": {
        "id": "_oGer78jyBnc"
      },
      "source": [
        "Training, Validation & Testing"
      ]
    },
    {
      "cell_type": "code",
      "execution_count": null,
      "metadata": {
        "colab": {
          "background_save": true
        },
        "id": "q3T4gcnW4pv0"
      },
      "outputs": [],
      "source": [
        "#Callbacks\n",
        "c2=tf.keras.callbacks.EarlyStopping(\n",
        "    monitor=\"val_loss\",\n",
        "    min_delta=0,\n",
        "    patience=6,\n",
        "    mode=\"auto\",\n",
        "    baseline=None,\n",
        "    restore_best_weights=True,\n",
        ")\n",
        "\n",
        "c3=tf.keras.callbacks.ReduceLROnPlateau(\n",
        "    monitor=\"val_loss\",\n",
        "    factor=0.1,\n",
        "    patience=6,\n",
        "    mode=\"auto\",\n",
        "    min_delta=0.0001,\n",
        "    cooldown=0,\n",
        "    min_lr=0.001\n",
        ")\n",
        "nClasses=2"
      ]
    },
    {
      "cell_type": "markdown",
      "metadata": {
        "id": "xPPgPmnG4yGq"
      },
      "source": [
        "Data Imbalance"
      ]
    },
    {
      "cell_type": "code",
      "execution_count": null,
      "metadata": {
        "colab": {
          "background_save": true
        },
        "id": "9pjrl7oI4uOa"
      },
      "outputs": [],
      "source": [
        "import pandas as pd\n",
        "import seaborn as sns\n",
        "import matplotlib.pyplot as plt\n",
        "\n",
        "# Define the function to read label information\n",
        "def read_label():\n",
        "    print(\"Reading labels\")\n",
        "    filename = url + 'Info.txt'  # Update the file path accordingly\n",
        "    with open(filename, 'r') as file:\n",
        "        lines = file.readlines()\n",
        "    data = []\n",
        "    for line in lines[1:]:  # Skip the header line\n",
        "        words = line.strip().split()\n",
        "        if len(words) > 2:  # Ensure the line has sufficient information\n",
        "            image_id = words[0]\n",
        "            cls = words[2]\n",
        "            # Convert non-NORM classes to 'Cancer' and NORM to 'Normal'\n",
        "            if cls != 'NORM':\n",
        "                cls = 'Cancer'\n",
        "            else:\n",
        "                cls = 'Normal'\n",
        "            data.append([image_id, cls])\n",
        "    columns = ['REFNUM', 'CLASS']\n",
        "    label_df = pd.DataFrame(data, columns=columns)\n",
        "    return label_df\n",
        "\n",
        "# Read label information from the file\n",
        "label_df = read_label()\n",
        "\n",
        "# Plot the class distribution\n",
        "plt.figure(figsize=(6, 4))\n",
        "sns.countplot(data=label_df, x='CLASS')\n",
        "plt.title('Class Distribution')\n",
        "plt.xlabel('Class')\n",
        "plt.ylabel('Count')\n",
        "plt.show()\n",
        "\n",
        "# Check imbalance\n",
        "class_counts = label_df['CLASS'].value_counts()\n",
        "print(\"Class Distribution:\")\n",
        "print(class_counts)\n",
        "\n",
        "imbalance_threshold = 0.4  # tolerance data 40%\n",
        "minority_class_ratio = class_counts.min() / class_counts.max()\n",
        "\n",
        "if minority_class_ratio < imbalance_threshold:\n",
        "    print(\"\\nThe data is imbalanced.\")\n",
        "else:\n",
        "    print(\"\\nThe data is balanced.\")\n"
      ]
    },
    {
      "cell_type": "code",
      "execution_count": null,
      "metadata": {
        "colab": {
          "background_save": true
        },
        "id": "_MaRvYSIxMwy"
      },
      "outputs": [],
      "source": [
        "import pandas as pd\n",
        "import seaborn as sns\n",
        "import matplotlib.pyplot as plt\n",
        "\n",
        "# Define the function to read label information\n",
        "def read_label():\n",
        "    print(\"Reading labels\")\n",
        "    filename = url + 'Info.txt'  # Update the file path accordingly\n",
        "    with open(filename, 'r') as file:\n",
        "        lines = file.readlines()\n",
        "    data = []\n",
        "    for line in lines[1:]:  # Skip the header line\n",
        "        words = line.strip().split()\n",
        "        if len(words) > 6:  # Ensure the line has sufficient information\n",
        "            image_id = words[0]\n",
        "            bg = words[1]\n",
        "            classification = words[2]\n",
        "            try:\n",
        "                x = int(words[4])\n",
        "                y = int(words[5])\n",
        "                radius = int(words[6])\n",
        "            except ValueError:\n",
        "                # Handle non-numeric values or missing data\n",
        "                continue\n",
        "            severity = words[3]\n",
        "            data.append([image_id, bg, classification, x, y, radius, severity])\n",
        "    columns = ['REFNUM', 'BG', 'CLASS', 'X', 'Y', 'RADIUS', 'SEVERITY']\n",
        "    label_df = pd.DataFrame(data, columns=columns)\n",
        "    return label_df\n",
        "\n",
        "# Read label information from the file\n",
        "label_df = read_label()\n",
        "\n",
        "# Check imbalance by 'SEVERITY'\n",
        "severity_counts = label_df['SEVERITY'].value_counts()\n",
        "print(\"Severity Counts:\")\n",
        "print(severity_counts)\n",
        "\n",
        "# Plot severity distribution\n",
        "plt.figure(figsize=(8, 6))\n",
        "sns.countplot(data=label_df, x='SEVERITY', palette='Set2')\n",
        "plt.title('Severity Distribution')\n",
        "plt.xlabel('Severity')\n",
        "plt.ylabel('Count')\n",
        "plt.show()\n",
        "\n",
        "# Check imbalance by 'CLASS'\n",
        "class_counts = label_df['CLASS'].value_counts()\n",
        "print(\"Class Counts:\")\n",
        "print(class_counts)\n",
        "\n",
        "plt.figure(figsize=(8, 6))\n",
        "sns.countplot(data=label_df, x='CLASS', palette='Set2')\n",
        "plt.title('Class Distribution')\n",
        "plt.xlabel('Class')\n",
        "plt.ylabel('Count')\n",
        "plt.show()"
      ]
    },
    {
      "cell_type": "markdown",
      "metadata": {
        "id": "Mm0LeshTxgz5"
      },
      "source": [
        "Resnet 152"
      ]
    },
    {
      "cell_type": "code",
      "execution_count": null,
      "metadata": {
        "colab": {
          "background_save": true
        },
        "id": "xVmHWhV7XTPL"
      },
      "outputs": [],
      "source": [
        "!pip install livelossplot\n",
        "from livelossplot import PlotLossesKeras\n",
        "from tensorflow.keras.applications import ResNet50  # Import ResNet152 model\n",
        "\n",
        "# Initialize ResNet152 model\n",
        "base_Neural_Net = ResNet50(input_shape=(128, 128, 3), weights='imagenet', include_top=False)\n",
        "\n",
        "# Define the rest of your model\n",
        "model = Sequential()\n",
        "model.add(base_Neural_Net)\n",
        "model.add(Flatten())\n",
        "model.add(BatchNormalization())\n",
        "model.add(Dense(256, kernel_initializer='he_uniform'))\n",
        "model.add(BatchNormalization())\n",
        "model.add(Activation('relu'))\n",
        "model.add(Dropout(0.5))\n",
        "model.add(Dense(2, activation='softmax'))\n",
        "\n",
        "# Freeze layers of the base ResNet152 model\n",
        "for layer in base_Neural_Net.layers:\n",
        "    layer.trainable = False"
      ]
    },
    {
      "cell_type": "code",
      "execution_count": null,
      "metadata": {
        "colab": {
          "background_save": true
        },
        "id": "y6BoMUb1XaKD"
      },
      "outputs": [],
      "source": [
        "# Compile the model\n",
        "from tensorflow.keras.optimizers import Adam\n",
        "\n",
        "c1 = PlotLossesKeras()\n",
        "model.compile(optimizer=Adam(), loss='categorical_crossentropy', metrics=['accuracy', 'AUC'])\n",
        "\n",
        "# Train the model\n",
        "model.fit(x_train, y_train, epochs=10, validation_data=(x_val, y_val),callbacks=[c1, c3], batch_size=16)"
      ]
    },
    {
      "cell_type": "code",
      "execution_count": null,
      "metadata": {
        "colab": {
          "background_save": true
        },
        "id": "u0CmhGgkS8WG"
      },
      "outputs": [],
      "source": [
        "y_pred = model.predict(x_test)"
      ]
    },
    {
      "cell_type": "code",
      "execution_count": null,
      "metadata": {
        "colab": {
          "background_save": true
        },
        "id": "QqBPe2q4SdU7"
      },
      "outputs": [],
      "source": [
        "print(\"Performance Report:\")\n",
        "y_pred_proba = model.predict(x_test)\n",
        "y_pred9 = np.argmax(y_pred_proba, axis=1)\n",
        "y_test9 = np.argmax(y_test, axis=1)  # Assuming y_test is one-hot encoded\n",
        "target=[\"B\", \"M\"]\n",
        "\n",
        "from sklearn import metrics\n",
        "from sklearn.metrics import confusion_matrix\n",
        "print('Accuracy score is:', np.round(metrics.accuracy_score(y_test9, y_pred9), 4))\n",
        "print('Precision score is:', np.round(metrics.precision_score(y_test9, y_pred9, average='weighted'), 4))\n",
        "print('Recall score is:', np.round(metrics.recall_score(y_test9, y_pred9, average='weighted'), 4))\n",
        "print('F1 Score is:', np.round(metrics.f1_score(y_test9, y_pred9, average='weighted'), 4))\n",
        "# ROC AUC score for multi-class classification needs different handling, check the documentation for the correct usage\n",
        "print('ROC AUC Score is:', np.round(metrics.roc_auc_score(y_test, y_pred_proba, multi_class='ovr', average='weighted'), 4))\n",
        "print('\\t\\tClassification Report:\\n', metrics.classification_report(y_test9, y_pred9, target_names=target))\n",
        "# Compute confusion matrix\n",
        "conf_matrix = confusion_matrix(y_test9, y_pred9)\n",
        "\n",
        "# Calculate Sensitivity and Specificity for each class\n",
        "sensitivity = conf_matrix.diagonal() / conf_matrix.sum(axis=1)\n",
        "specificity = (conf_matrix.sum(axis=1) - conf_matrix.diagonal()) / (conf_matrix.sum(axis=1) + conf_matrix.sum(axis=0) - conf_matrix.diagonal())\n",
        "\n",
        "# Print Sensitivity and Specificity\n",
        "for i, label in enumerate(target):\n",
        "    print(f'Class {label} - Sensitivity: {np.round(sensitivity[i], 4)}, Specificity: {np.round(specificity[i], 4)}')\n",
        "\n"
      ]
    }
  ],
  "metadata": {
    "accelerator": "GPU",
    "colab": {
      "gpuType": "T4",
      "provenance": []
    },
    "kernelspec": {
      "display_name": "Python 3",
      "name": "python3"
    },
    "language_info": {
      "name": "python"
    }
  },
  "nbformat": 4,
  "nbformat_minor": 0
}